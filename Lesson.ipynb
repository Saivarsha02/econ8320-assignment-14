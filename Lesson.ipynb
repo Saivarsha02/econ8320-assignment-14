{
  "cells": [
    {
      "cell_type": "markdown",
      "metadata": {
        "id": "RW7qLW2rQY3g"
      },
      "source": [
        "# Multiprocessing\n",
        "\n",
        "Or writing programs to use multiple processor cores"
      ]
    },
    {
      "cell_type": "markdown",
      "metadata": {
        "id": "xto_TpX9QY3h"
      },
      "source": [
        "### This lesson is based on notes from [sebastianraschka.com](http://sebastianraschka.com/Articles/2014_multiprocessing.html)\n",
        "\n",
        "What actually happens when you run code, or execute a program on a computer? If we focus on Python, what happens when we run Python code? Does our computer \"speak Python\", understand what we type, and do what we ask?\n",
        "\n",
        "It turns out that no, our computer does NOT speak Python. When we execute Python code, our code is passed to an **interpreter**. This interpreter is what reads our code and translates what we have written into what is called **machine code**. Machine code is typically not human-readable. That's the reason we have languages like Python, R, C++, Java, etc. We need a way to express logic clearly and explicitly, so that it can be translated into the kind of code that our computer DOES understand.\n",
        "\n",
        "So far, human speech (or written human language) does not translate directly to machine code.\n",
        "\n",
        "But what actually happens once we write our code, and the computer starts to run that code? We can understand the basics of this process through the following six (simplified!) steps:\n",
        "\n",
        "1) The computer allocates memory to the program\n",
        "2) The program issues a series of instructions to the processor (the thinking part of the computer)\n",
        "3) Upon completion of one instruction by the processor, the next is started\n",
        "4) Information is returned from the processor to the program as needed\n",
        "5) New instructions are sent to the processor based on information received from the processor\n",
        "6) Return to step 2, repeat until program is finished\n",
        "\n",
        "\n",
        "When a program is running, it typically has a single space in memory in which it stores all information relevant to its task. This memory space allows the information to be used by whichever part of the program requires that information to use it. Basically, think of all of the things in memory as shared assets, and different parts of the program want to be able to access them at the same time. Kind of like if you share a storage space with a friend or family member. Sometimes you'll be pulling out the camping gear, and sometimes they will be instead.\n",
        "\n",
        "Information that is accessible across the entire program are called **globally defined values**. But not all variables are global. Some variables with reduced **scope** are not available to all segments of a program. You might have valuables that you don't share with the other people using your storage space. It's kind of like that. Variables with reduced scope are only available to parts of the program that share that scope.\n",
        "\n",
        "While for people, we restrict access primarily based on keeping valuables safe, programs tend to do it in order to ensure that information is not lost or modified while it is needed by a part of the program. You wouldn't want to have someone change your budgeting spreadsheet in the middle of the month, would you?\n",
        "\n",
        "Again, **scope** is a term used to define the areas in which a given value in memory is accessible. Variables that are **Global** in scope can typically be accessed by any function or command running as part of the program. Variables that are **Local** can only be accessed within the scope in which they are defined. A variable created inside a function is said to be **local** to that function, and only available until the function is concluded. Then it is either returned to the global space, or forgotten.\n"
      ]
    },
    {
      "cell_type": "markdown",
      "metadata": {
        "id": "MV5jv7XsQY3i"
      },
      "source": [
        "\n",
        "![](https://github.com/dustywhite7/Econ8320/blob/master/SlidesCode/serialParallel.png?raw=true)\n",
        "\n",
        "One of the single biggest changes in computational technology in the recent past was the advent and spread of parallel computation. This concept is the crux of this lesson, but needs a lot of explaining, because it isn't something that we as computer USERS have to deal with. It happens behind the scenes, despite its tremendous importance.\n",
        "\n",
        "### Sequential programs\n",
        "\n",
        "When we perform tasks, some steps must be performed sequentially. This happens because one task depends on the results of the other task. For example, an American football team will only make a play on fourth down if they fail to score or convert on third down. We can't fully implement our plan for fourth down until we have seen whether or not fourth down will occur.\n",
        "\n",
        "We need to aim our penalty shot in FIFA before taking the kick. We even need to wait to complete the details for the elimination rounds of the tournament until group play has ended. Until then, we don't know enough about which teams will advance to complete the bracket.\n",
        "\n",
        "In programming speak, sequential programs are sequential because it is critical that the results of one calculation be within the **scope** of the other calculations. If one sequential calculation cannot view the results of the prior calculation, then the second function cannot be completed.\n",
        "\n",
        "### Parallel Programs\n",
        "\n",
        "On the other hand, some calculations can be performed independent of the results of other steps. These tend to be calculations that can essentially be considered separate tasks, but part of a larger overall task. Some examples include\n",
        "\n",
        "- Batch processing of files\n",
        "- Non-sequential simulations\n",
        "- Serving recommended products to many users\n",
        "- Repeated random draws\n",
        "- Rendering polygons\n",
        "\n",
        "The key difference between serial and parallel programs is the dependency (or lack of dependency) of calculations on the results of previous calculations.\n",
        "\n",
        "- Serial programs rely on previous results\n",
        "- Parallel programs do not depend on the results of other calculations\n",
        "\n",
        "Parallel programs can occur simultaneously, allowing us to accelerate execution. If we can run four calculations simultaneously, then in theory we might be able to run 100 computations in the time that a serial program might run 25 similar computations.\n",
        "\n",
        "Parallel computations have enabled advances like improved graphics in video games, and have made possible the revolution in machine learning. Let's learn how to make parallel code work for our projects, as well!\n"
      ]
    },
    {
      "cell_type": "markdown",
      "metadata": {
        "id": "0BN7I3W1QY3i"
      },
      "source": [
        "One place where parallel processing really shines is in estimating complex mathematical calculations. While some math can be solved algebraically, other math problems can only be solved computationally. The more computations we can perform in a given amount of time, the sooner we can find the solution to those problems. We can buy faster computers to speed up calculations, but we can also parallelize many calculations, giving us benefits without having to upgrade our computer!\n",
        "\n",
        "Some examples in which we will typically solve math problems with computation:\n",
        "- Estimating Producer/Consumer Surplus\n",
        "- Calculating probabilities from frequency tables\n",
        "- Integrating on complicated functional forms\n",
        "\n",
        "### Numeric Integration\n",
        "\n",
        "Often, when integrating complicated functions, there is no **algebraic** solution to the integral. This means that we need to estimate the value of the integral **numerically**. The process that we follow to estimate an integral numerically follows:\n",
        "\n",
        "1) Choose points at which to estimate the value of the function\n",
        "2) Choose bandwidth\n",
        "3) Multiply function values by bandwidth\n",
        "4) Add all estimates to calculate approximate integral\n",
        "\n",
        "![](https://github.com/dustywhite7/Econ8320/blob/master/SlidesCode/integralProcess.png?raw=true)\n",
        "\n",
        "Let's start by just defining a function to integrate. We can use\n",
        "\n",
        "$$ f(x) = \\frac{1}{1+x^2} $$\n",
        "\n",
        "as our example function. First, we need to write this function as a Python function:"
      ]
    },
    {
      "cell_type": "code",
      "execution_count": 9,
      "metadata": {
        "id": "KBb6yngQQY3i"
      },
      "outputs": [],
      "source": [
        "# define any function here!\n",
        "def f(x):\n",
        "    # return the value of the function given x\n",
        "    return 1/(1 + x**2)"
      ]
    },
    {
      "cell_type": "markdown",
      "metadata": {
        "id": "9Rm6f6c9QY3j"
      },
      "source": [
        "Now, we need to write a function that can sample from our function, and calculate the area of the sampled rectangles, and then return an approximate area."
      ]
    },
    {
      "cell_type": "code",
      "execution_count": 10,
      "metadata": {
        "colab": {
          "base_uri": "https://localhost:8080/",
          "height": 108
        },
        "id": "OPEvIcjXQY3j",
        "outputId": "a402ff39-49ef-44da-bb74-06fdb570e299"
      },
      "outputs": [
        {
          "output_type": "error",
          "ename": "SyntaxError",
          "evalue": "invalid syntax (<ipython-input-10-ee3c599f20f3>, line 11)",
          "traceback": [
            "\u001b[0;36m  File \u001b[0;32m\"<ipython-input-10-ee3c599f20f3>\"\u001b[0;36m, line \u001b[0;32m11\u001b[0m\n\u001b[0;31m    area = [(sample[0]-xmin)*value[0]] +\u001b[0m\n\u001b[0m                                         ^\u001b[0m\n\u001b[0;31mSyntaxError\u001b[0m\u001b[0;31m:\u001b[0m invalid syntax\n"
          ]
        }
      ],
      "source": [
        "import random\n",
        "\n",
        "def serial_integral(nSample, f, xmin, xmax):\n",
        "  # determine points of estimation\n",
        "  sample = sorted([random.uniform(xmin, xmax) for i in range(nSample)])\n",
        "  # Calculate height at each point\n",
        "  value = [f(i) for i in sample]\n",
        "  # Calculate areas of rectangles\n",
        "  # We have to specially calculate the first rectangle,\n",
        "  #   because xmin is not part of our list of samples\n",
        "  area = [(sample[0]-xmin)*value[0]] +\n",
        "    [(sample[i]-sample[i-1])*value[i] for i in range(1, len(sample))]\n",
        "  # Return sum as an approximate integral\n",
        "  return sum(area)"
      ]
    },
    {
      "cell_type": "markdown",
      "metadata": {
        "id": "zYchy_PXQY3j"
      },
      "source": [
        "This is our function for actually integrating a function `f` from `xmin` to `xmax` across `nSample` random intervals. Below is a picture of how this function gets (approximately) closer to estimating the true integral value as we increase the number of points at which we sample the function. Because integration is based on randomly drawn intervals, the convergence is not smooth. If we took many integrals at each bin number, however, we would expect this plot to become smooth.\n",
        "\n",
        "![](https://github.com/dustywhite7/Econ8320/blob/master/SlidesCode/integral.png?raw=true)\n",
        "\n",
        "### Parallel calculations\n",
        "\n",
        "The ``multiprocessing`` library is designed to create multiple sub-instances of the python interpreter called processes, with each process returning values that are independent of the other processes. In order to coordinate this effort, some computational power must be assigned to send off processes and to retrieve their results upon completion.\n",
        "\n",
        "This \"overhead\" means that parallel processing is not usually justified for very simple problems, and is reserved for computationally intensive problems, or where there are very many processes to be completed in one batch.\n",
        "\n",
        "Given the overhead of parallelization, it is not worthwhile to make a parallel version of our single integral function above. Instead, it IS worthwhile to create a function that can calculate the integral many times in parallel. Like we said above, convergence is noisy, but an average value for each given number of bins should be more stable.\n",
        "\n",
        "Let's see how much time we can save by making a function that will calculate an average value in parallel when compared to a serialized alternative."
      ]
    },
    {
      "cell_type": "code",
      "execution_count": 11,
      "metadata": {
        "id": "C3tNTxLZQY3j"
      },
      "outputs": [],
      "source": [
        "import multiprocessing as mp # This module is part of the\n",
        "\t\t\t     # python standard library\n",
        "\n",
        "def serial_average(n_bins, n_reps, f, xmin, xmax):\n",
        "  attempts = [serial_integral(n_bins, f, xmin, xmax) for i in range(n_reps)]\n",
        "  return sum(attempts)/n_reps\n",
        "\n",
        "def parallel_average(processes, n_bins, n_reps, f, xmin, xmax):\n",
        "  pool = mp.Pool(processes=processes)\n",
        "  results = [pool.apply_async(serial_integral, (n_bins, f, xmin, xmax)) for i in range(n_reps)]\n",
        "  results = [p.get() for p in results]\n",
        "  return sum(results)/n_reps"
      ]
    },
    {
      "cell_type": "markdown",
      "metadata": {
        "id": "l5QuhqIrQY3j"
      },
      "source": [
        "Now let's explore what that function does."
      ]
    },
    {
      "cell_type": "code",
      "execution_count": 12,
      "metadata": {
        "id": "YMGxNqJxQY3j"
      },
      "outputs": [],
      "source": [
        "def parallel_average(processes, n_bins, n_reps, f, xmin, xmax):\n",
        "  pool = mp.Pool(processes=processes)\n",
        "  ...\n",
        "  return ..."
      ]
    },
    {
      "cell_type": "markdown",
      "metadata": {
        "id": "I1QF8CoMQY3j"
      },
      "source": [
        "The `mp.Pool` class provides the functionality to organize our processes, and to define the degree to which we want to spread our work across various **processes**. We can specify how many active processes there should be at any time with the number of processes.\n",
        "\n",
        "We need to take care to choose the right number of processes for our machine! In general, my experience has been that performance is best when you keep the number of processes at or below the number of cores available in your computer's processor."
      ]
    },
    {
      "cell_type": "code",
      "execution_count": 13,
      "metadata": {
        "id": "ys4bwUm_QY3j"
      },
      "outputs": [],
      "source": [
        "def parallel_average(processes, n_bins, n_reps, f, xmin, xmax):\n",
        "  ...\n",
        "  results = [pool.apply_async(serial_integral, (n_bins, f, xmin, xmax)) for i in range(n_reps)]\n",
        "  ...\n",
        "  return ..."
      ]
    },
    {
      "cell_type": "markdown",
      "metadata": {
        "id": "_1-PBp04QY3k"
      },
      "source": [
        "We next use the `apply_async` method to pass the values that we want our pooled instances to calculate. We need to provide the function to be executed, as well as the arguments for the function in each iteration with each each of the arguments an element in a tuple. In our case, we are not varying the arguments, so we provide a single tuple that never changes, but we could vary those arguments whenever necessary or desirable."
      ]
    },
    {
      "cell_type": "code",
      "execution_count": 14,
      "metadata": {
        "id": "ZLe7LcXjQY3k"
      },
      "outputs": [],
      "source": [
        "def parallel_average(processes, n_bins, n_reps, f, xmin, xmax):\n",
        "  ...\n",
        "  results = [p.get() for p in results]\n",
        "  ...\n",
        "  return ..."
      ]
    },
    {
      "cell_type": "markdown",
      "metadata": {
        "id": "gDT9zORhQY3k"
      },
      "source": [
        "The next step is to use the `get()` method on each element of our returned processes. This will fetch the return statement values from each of the processes that we executed in the last line.\n",
        "\n",
        "At this point the parallel computation is complete. The remainder of the function will look and work just like the results from our `serial_average` method.\n",
        "\n",
        "\n",
        "### Timing it\n",
        "\n",
        "Next, it is time to write code that will allow us to test our parallel and serial performance."
      ]
    },
    {
      "cell_type": "code",
      "execution_count": 15,
      "metadata": {
        "colab": {
          "base_uri": "https://localhost:8080/",
          "height": 365
        },
        "id": "3BWjbFTpQY3k",
        "outputId": "42270642-a5fa-4fc6-d03e-aa7bd02aa6de"
      },
      "outputs": [
        {
          "output_type": "error",
          "ename": "UnboundLocalError",
          "evalue": "local variable 'results' referenced before assignment",
          "traceback": [
            "\u001b[0;31m---------------------------------------------------------------------------\u001b[0m",
            "\u001b[0;31mUnboundLocalError\u001b[0m                         Traceback (most recent call last)",
            "\u001b[0;32m<ipython-input-15-66c31eab922f>\u001b[0m in \u001b[0;36m<cell line: 11>\u001b[0;34m()\u001b[0m\n\u001b[1;32m      9\u001b[0m     \u001b[0;31m# This tells the timer what needs to be IN SCOPE\u001b[0m\u001b[0;34m\u001b[0m\u001b[0;34m\u001b[0m\u001b[0m\n\u001b[1;32m     10\u001b[0m \u001b[0;34m\u001b[0m\u001b[0m\n\u001b[0;32m---> 11\u001b[0;31m benchmarks.append(timeit.Timer(\n\u001b[0m\u001b[1;32m     12\u001b[0m   \u001b[0;34m'parallel_average(2, 10000, 100, f, 0, 1)'\u001b[0m\u001b[0;34m,\u001b[0m\u001b[0;34m\u001b[0m\u001b[0;34m\u001b[0m\u001b[0m\n\u001b[1;32m     13\u001b[0m   \u001b[0;34m'from __main__ import parallel_average, serial_integral, f'\u001b[0m\u001b[0;34m)\u001b[0m\u001b[0;34m.\u001b[0m\u001b[0mtimeit\u001b[0m\u001b[0;34m(\u001b[0m\u001b[0;34m\u001b[0m\u001b[0;34m\u001b[0m\u001b[0m\n",
            "\u001b[0;32m/usr/lib/python3.10/timeit.py\u001b[0m in \u001b[0;36mtimeit\u001b[0;34m(self, number)\u001b[0m\n\u001b[1;32m    176\u001b[0m         \u001b[0mgc\u001b[0m\u001b[0;34m.\u001b[0m\u001b[0mdisable\u001b[0m\u001b[0;34m(\u001b[0m\u001b[0;34m)\u001b[0m\u001b[0;34m\u001b[0m\u001b[0;34m\u001b[0m\u001b[0m\n\u001b[1;32m    177\u001b[0m         \u001b[0;32mtry\u001b[0m\u001b[0;34m:\u001b[0m\u001b[0;34m\u001b[0m\u001b[0;34m\u001b[0m\u001b[0m\n\u001b[0;32m--> 178\u001b[0;31m             \u001b[0mtiming\u001b[0m \u001b[0;34m=\u001b[0m \u001b[0mself\u001b[0m\u001b[0;34m.\u001b[0m\u001b[0minner\u001b[0m\u001b[0;34m(\u001b[0m\u001b[0mit\u001b[0m\u001b[0;34m,\u001b[0m \u001b[0mself\u001b[0m\u001b[0;34m.\u001b[0m\u001b[0mtimer\u001b[0m\u001b[0;34m)\u001b[0m\u001b[0;34m\u001b[0m\u001b[0;34m\u001b[0m\u001b[0m\n\u001b[0m\u001b[1;32m    179\u001b[0m         \u001b[0;32mfinally\u001b[0m\u001b[0;34m:\u001b[0m\u001b[0;34m\u001b[0m\u001b[0;34m\u001b[0m\u001b[0m\n\u001b[1;32m    180\u001b[0m             \u001b[0;32mif\u001b[0m \u001b[0mgcold\u001b[0m\u001b[0;34m:\u001b[0m\u001b[0;34m\u001b[0m\u001b[0;34m\u001b[0m\u001b[0m\n",
            "\u001b[0;32m/usr/lib/python3.10/timeit.py\u001b[0m in \u001b[0;36minner\u001b[0;34m(_it, _timer)\u001b[0m\n",
            "\u001b[0;32m<ipython-input-14-c439d3ce4e1f>\u001b[0m in \u001b[0;36mparallel_average\u001b[0;34m(processes, n_bins, n_reps, f, xmin, xmax)\u001b[0m\n\u001b[1;32m      1\u001b[0m \u001b[0;32mdef\u001b[0m \u001b[0mparallel_average\u001b[0m\u001b[0;34m(\u001b[0m\u001b[0mprocesses\u001b[0m\u001b[0;34m,\u001b[0m \u001b[0mn_bins\u001b[0m\u001b[0;34m,\u001b[0m \u001b[0mn_reps\u001b[0m\u001b[0;34m,\u001b[0m \u001b[0mf\u001b[0m\u001b[0;34m,\u001b[0m \u001b[0mxmin\u001b[0m\u001b[0;34m,\u001b[0m \u001b[0mxmax\u001b[0m\u001b[0;34m)\u001b[0m\u001b[0;34m:\u001b[0m\u001b[0;34m\u001b[0m\u001b[0;34m\u001b[0m\u001b[0m\n\u001b[1;32m      2\u001b[0m   \u001b[0;34m...\u001b[0m\u001b[0;34m\u001b[0m\u001b[0;34m\u001b[0m\u001b[0m\n\u001b[0;32m----> 3\u001b[0;31m   \u001b[0mresults\u001b[0m \u001b[0;34m=\u001b[0m \u001b[0;34m[\u001b[0m\u001b[0mp\u001b[0m\u001b[0;34m.\u001b[0m\u001b[0mget\u001b[0m\u001b[0;34m(\u001b[0m\u001b[0;34m)\u001b[0m \u001b[0;32mfor\u001b[0m \u001b[0mp\u001b[0m \u001b[0;32min\u001b[0m \u001b[0mresults\u001b[0m\u001b[0;34m]\u001b[0m\u001b[0;34m\u001b[0m\u001b[0;34m\u001b[0m\u001b[0m\n\u001b[0m\u001b[1;32m      4\u001b[0m   \u001b[0;34m...\u001b[0m\u001b[0;34m\u001b[0m\u001b[0;34m\u001b[0m\u001b[0m\n\u001b[1;32m      5\u001b[0m   \u001b[0;32mreturn\u001b[0m \u001b[0;34m...\u001b[0m\u001b[0;34m\u001b[0m\u001b[0;34m\u001b[0m\u001b[0m\n",
            "\u001b[0;31mUnboundLocalError\u001b[0m: local variable 'results' referenced before assignment"
          ]
        }
      ],
      "source": [
        "import timeit # library for timing execution of code\n",
        "\n",
        "benchmarks = [] # list to store our execution times\n",
        "\n",
        "benchmarks.append(timeit.Timer('serial_average(10000, 100, f, 0, 1)',\n",
        "  'from __main__ import serial_average, serial_integral, f').timeit(number=1))\n",
        "    # Note that we need to include a second line\n",
        "    # that imports our functions from __main__.\n",
        "    # This tells the timer what needs to be IN SCOPE\n",
        "\n",
        "benchmarks.append(timeit.Timer(\n",
        "  'parallel_average(2, 10000, 100, f, 0, 1)',\n",
        "  'from __main__ import parallel_average, serial_integral, f').timeit(\n",
        "    number=1))\n",
        "    # Need to include number of processes\n",
        "    # when timing the parallel implementation"
      ]
    },
    {
      "cell_type": "markdown",
      "metadata": {
        "id": "vSMARhBJQY3k"
      },
      "source": [
        "Amazing! When timing the output on my virtual machine (not at all a powerful computer), the parallel version runs nearly twice as fast (0.36 seconds vs 0.69 seconds). Even in a fairly trivial example, we see significant performance gains.\n",
        "\n",
        "When I ran a similar trial on my computer with 16 cores, I saw the following performance pattern:\n",
        "\n",
        "![w:750](https://github.com/dustywhite7/Econ8320/blob/master/SlidesCode/performance.png?raw=true)\n",
        "\n",
        "On 16 cores, the parallel version of this problem executes over 5x faster than the serial version! Some observations:\n",
        "\n",
        "- This was done on a 16-core processor, which is an expensive way to get a performance gain\n",
        "- Creating too many processes (going past 16 to 32) actually started to slow the computations down\n",
        "- We need to be aware of the hardware that we are utilizing when designing parallel code\n",
        "\n",
        "If you are unsure of how many processes you should run on your machine, the following command will show you how many CPU cores are available to Python:\n",
        "\n",
        "```python\n",
        "mp.cpu_count() # Tells us the number of available CPUs\n",
        "```\n",
        "\n",
        "Now it's your turn to give it a go!\n"
      ]
    },
    {
      "cell_type": "markdown",
      "metadata": {
        "id": "9PRy9gyIQY3k"
      },
      "source": [
        "## Solve-it!\n",
        "\n",
        "Simulate 1,000 draws from a multivariate normal distribution and calculate the average value of the dependent variable, but do it 100 times! This is called \"bootstrapping\" and is a critical process in many statistical models and simulations. Draw from the following equation:\n",
        "\n",
        "$$ y = \\alpha + x_{1} + 2\\cdot x_{2} + \\frac{1}{2}x_{3} + \\epsilon $$\n",
        "\n",
        "where\n",
        "\n",
        "$\\alpha \\sim \\mathcal{N}(15,2)$, $x_1 \\sim \\mathcal{N}(3,5)$,\n",
        "\n",
        "$x_2 \\sim \\mathcal{N}(10,1)$, $x_3 \\sim \\mathcal{N}(8,8)$, and\n",
        "\n",
        "$\\epsilon \\sim \\mathcal{N}(0,1)$\n",
        "\n",
        "$\\mathcal{N}(\\mu, \\sigma)$ represents the Normal distribution with mean $\\mu$ and standard deviation $\\sigma$\n",
        "\n",
        "Write functions to generate all values and calculate . Test and time these draws using serial and parallel programming (2 cores), and report the difference in performance between the two versions.\n",
        "\n",
        "\n",
        "Call your serial function `sCalc`, and your parallel function `pCalc`, store your results from each function as a list, with the lists named `sResults` and `pResults`, respectively.\n",
        "\n",
        "Finally, store the timed values for each run as `sTime` and `pTime`, respectively. All code for this exercise should go in the cell labeled `#si-exercise` below.\n",
        "\n",
        "**NOTE: Because we are running code on a virtual machine, and because the problem is not very computationally intensive, we should not be surprised if the serial version of our code outperforms the parallel version for this assignment.**\n",
        "\n",
        "**OTHER NOTE: Because we need this to run in a reasonable amount of time, we are only running 100 rounds of sampling. Typical bootstrapping procedures default to 10,000 rounds as good practice.**"
      ]
    },
    {
      "cell_type": "code",
      "execution_count": 16,
      "metadata": {
        "colab": {
          "base_uri": "https://localhost:8080/"
        },
        "id": "42JHVrtyQY3k",
        "outputId": "76638099-b10f-47a0-a668-d9e69cb9102b"
      },
      "outputs": [
        {
          "output_type": "stream",
          "name": "stdout",
          "text": [
            "Serial time: 0.0008810730000732292\n",
            "Serial Result: [36.83042199188663, 50.1592978340008, 46.607058226800106, 53.593395186213726, 33.699920950510965, 42.450529165041715, 31.380680261544214, 32.35984916408271, 41.27822217040406, 44.25172387216305, 43.16835808337985, 36.89263286934978, 39.767628270902925, 41.89584211665321, 49.87466718584379, 40.55757947745078, 51.328226079680995, 54.66285295138401, 39.35162440732548, 25.52828787732518, 40.788760614787066, 43.683806997330805, 37.928972112988916, 44.49402337465425, 44.41951176348822, 35.80064812573728, 39.84225664098553, 43.75290312057206, 33.98515284698264, 40.80183104877299, 27.632547761912743, 52.99111106391515, 38.113569909408604, 55.928543808674654, 40.272431521401586, 48.07562704845554, 51.116290674999824, 34.85673045107687, 40.523549783322885, 25.429953901649455, 38.66821300342326, 48.90953795418483, 48.75728341164165, 44.38694300692718, 48.88119805750223, 33.59109929581539, 33.6790632973899, 32.59118620734026, 44.39094298373723, 43.74820589088387, 38.25438734909702, 33.18880603076116, 37.511443670973044, 45.46125111449149, 55.46583292158301, 40.11201697142457, 45.57177652499356, 29.06917624506712, 32.706914869943446, 34.873930317136406, 34.331913029793064, 50.811171796246065, 45.69347189632724, 31.377092956673174, 50.779352695741665, 46.035016331677554, 27.567321692250836, 38.81168308018221, 51.64015965358809, 45.76566356877092, 55.05835296282706, 34.71190080519057, 44.60139096545929, 46.68303456654049, 36.87392594039024, 47.96953987399071, 54.82170500305706, 48.082480131754885, 42.631714464622625, 29.137616387692717, 35.04834188190279, 23.268105533558174, 46.93892376651895, 44.14999856022671, 44.84098429407372, 58.14253321083625, 38.90852283469503, 45.654116357626684, 52.339913094192624, 48.01919303613904, 36.01511081281095, 49.15474965087507, 32.137064705990184, 33.668235895072144, 40.34555203401944, 29.661152216286524, 49.19142529960287, 48.07505219113323, 54.398951242501354, 39.18040215740698]\n",
            "Parallel time: 0.027194310000027144\n",
            "Parallel Result: [39.94703620259837, 38.26966027554603, 33.60340725668326, 33.83930076371824, 36.62226261003096, 47.39609021934262, 40.251008789735614, 38.635512881664575, 31.761512070478393, 47.98807768489904, 46.09648802026172, 48.40065767504227, 44.48519643440879, 39.94703620259837, 38.26966027554603, 33.60340725668326, 33.83930076371824, 36.62226261003096, 47.39609021934262, 40.251008789735614, 38.635512881664575, 31.761512070478393, 47.98807768489904, 46.09648802026172, 48.40065767504227, 44.48519643440879, 37.111718252693336, 44.82956573909026, 46.86155918708236, 40.89785732491495, 47.93748342133859, 46.13689282016871, 43.15490935043338, 38.62410882292908, 49.079422260787716, 35.39627226340871, 49.39563600399785, 36.22171108478808, 33.15738813902248, 38.27299478390443, 53.978533835800924, 36.876169126047756, 35.6432071790562, 53.15085732677279, 43.83210650756282, 35.84980370567177, 38.74814136103984, 53.14911979581413, 35.431404247213614, 39.389921150981245, 41.013610817023135, 41.825776024909615, 32.764684207283594, 42.40111085456517, 46.17167102172706, 46.09578696051741, 27.649416766848738, 38.60726078734993, 41.52452599377391, 47.92621077816093, 35.68440663919302, 44.63764853419754, 33.07376619727228, 41.96341174155281, 36.427177772075524, 50.35549301281258, 31.497496445987853, 43.39941147936892, 41.63935866008637, 45.79012106356955, 48.93631093135755, 37.388371478650704, 24.33927781996896, 38.27934510980836, 43.89032965490251, 26.027225212010638, 41.372342698579835, 42.77695911867794, 29.128283312637265, 44.056001831376356, 34.69568978200425, 46.55248517289569, 43.179916617877424, 39.293888164493495, 37.452438851968516, 35.12295715471019, 54.05867890085503, 45.08012883340444, 46.2277012516654, 41.43124760939857, 38.62038928150588, 46.31463704997452, 39.19144703561817, 44.538343470609625, 40.70623540265803, 46.116420137195355, 51.19770736649378, 36.17517307942294, 55.066853262174355, 40.592246204452124]\n"
          ]
        }
      ],
      "source": [
        "#si-exercise\n",
        "import random\n",
        "import multiprocessing as mp\n",
        "import timeit\n",
        "import numpy as np\n",
        "\n",
        "def f(x):\n",
        "    return 1/(1 + x**2)\n",
        "\n",
        "def serial_integral(nSample, f, xmin, xmax):\n",
        "  sample = sorted([random.uniform(xmin, xmax) for i in range(nSample)])\n",
        "  value = [f(i) for i in sample]\n",
        "  area = [(sample[0]-xmin)*value[0]] + [(sample[i]-sample[i-1])*value[i] for i in range(1, len(sample))]\n",
        "  return sum(area)\n",
        "\n",
        "def serial_average(n_bins, n_reps, f, xmin, xmax):\n",
        "  attempts = [serial_integral(n_bins, f, xmin, xmax) for i in range(n_reps)]\n",
        "  return sum(attempts)/n_reps\n",
        "\n",
        "def parallel_average(processes, n_bins, n_reps, f, xmin, xmax):\n",
        "  pool = mp.Pool(processes=processes)\n",
        "  results = [pool.apply_async(serial_integral, (n_bins, f, xmin, xmax)) for i in range(n_reps)]\n",
        "  results = [p.get() for p in results]\n",
        "  return sum(results)/n_reps\n",
        "\n",
        "#si-exercise\n",
        "def sCalc():\n",
        "    alpha = np.random.normal(15, 2)\n",
        "    x1 = np.random.normal(3, 5)\n",
        "    x2 = np.random.normal(10, 1)\n",
        "    x3 = np.random.normal(8, 8)\n",
        "    epsilon = np.random.normal(0,1)\n",
        "    y = alpha + x1 + 2*x2 + 0.5*x3 + epsilon\n",
        "    return y\n",
        "\n",
        "def pCalc(i):\n",
        "    alpha = np.random.normal(15, 2)\n",
        "    x1 = np.random.normal(3, 5)\n",
        "    x2 = np.random.normal(10, 1)\n",
        "    x3 = np.random.normal(8, 8)\n",
        "    epsilon = np.random.normal(0,1)\n",
        "    y = alpha + x1 + 2*x2 + 0.5*x3 + epsilon\n",
        "    return y\n",
        "\n",
        "sResults = [sCalc() for i in range(100)]\n",
        "sTime = timeit.timeit('sResults = [sCalc() for i in range(100)]', globals=globals(), number=1)\n",
        "\n",
        "\n",
        "with mp.Pool(processes=2) as pool:\n",
        "  pResults = pool.map(pCalc, range(100))\n",
        "pTime = timeit.timeit('with mp.Pool(processes=2) as pool: pResults = pool.map(pCalc, range(100))', globals=globals(), number=1)\n",
        "\n",
        "print(f\"Serial time: {sTime}\")\n",
        "print(\"Serial Result:\", sResults)\n",
        "\n",
        "print(f\"Parallel time: {pTime}\")\n",
        "print(\"Parallel Result:\", pResults)\n"
      ]
    }
  ],
  "metadata": {
    "celltoolbar": "Create Assignment",
    "kernelspec": {
      "display_name": "Python 3 (ipykernel)",
      "language": "python",
      "name": "python3"
    },
    "language_info": {
      "codemirror_mode": {
        "name": "ipython",
        "version": 3
      },
      "file_extension": ".py",
      "mimetype": "text/x-python",
      "name": "python",
      "nbconvert_exporter": "python",
      "pygments_lexer": "ipython3",
      "version": "3.9.13"
    },
    "colab": {
      "provenance": []
    }
  },
  "nbformat": 4,
  "nbformat_minor": 0
}